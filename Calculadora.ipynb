{
  "nbformat": 4,
  "nbformat_minor": 0,
  "metadata": {
    "colab": {
      "name": "Calculadora.ipynb",
      "provenance": [],
      "collapsed_sections": [],
      "authorship_tag": "ABX9TyPkymmnbI0WBCbv+UlRPix0",
      "include_colab_link": true
    },
    "kernelspec": {
      "name": "python3",
      "display_name": "Python 3"
    }
  },
  "cells": [
    {
      "cell_type": "markdown",
      "metadata": {
        "id": "view-in-github",
        "colab_type": "text"
      },
      "source": [
        "<a href=\"https://colab.research.google.com/github/BigOsvaap/BS/blob/master/Calculadora.ipynb\" target=\"_parent\"><img src=\"https://colab.research.google.com/assets/colab-badge.svg\" alt=\"Open In Colab\"/></a>"
      ]
    },
    {
      "cell_type": "code",
      "metadata": {
        "id": "aKj-0fO54UF6",
        "colab": {
          "base_uri": "https://localhost:8080/",
          "height": 195
        },
        "outputId": "ff41d6cd-9a32-4dbf-fefa-4f1efc8a1d7a"
      },
      "source": [
        "def one_away(str1, str2):\n",
        "  str1_len = len(str1)\n",
        "  str2_len = len(str2)\n",
        "\n",
        "  for i in range()\n",
        "\n",
        "\n",
        "assert one_away(\"pale\", \"ple\")\n",
        "assert one_away(\"pales\", \"pale\")\n",
        "assert one_away(\"pale\", \"bale\")\n",
        "assert one_away(\"pale\", \"bake\") == False"
      ],
      "execution_count": null,
      "outputs": [
        {
          "output_type": "error",
          "ename": "AssertionError",
          "evalue": "ignored",
          "traceback": [
            "\u001b[0;31m---------------------------------------------------------------------------\u001b[0m",
            "\u001b[0;31mAssertionError\u001b[0m                            Traceback (most recent call last)",
            "\u001b[0;32m<ipython-input-27-c3cd9cc5d406>\u001b[0m in \u001b[0;36m<module>\u001b[0;34m()\u001b[0m\n\u001b[1;32m      8\u001b[0m \u001b[0;32massert\u001b[0m \u001b[0mone_away\u001b[0m\u001b[0;34m(\u001b[0m\u001b[0;34m\"pales\"\u001b[0m\u001b[0;34m,\u001b[0m \u001b[0;34m\"pale\"\u001b[0m\u001b[0;34m)\u001b[0m\u001b[0;34m\u001b[0m\u001b[0;34m\u001b[0m\u001b[0m\n\u001b[1;32m      9\u001b[0m \u001b[0;32massert\u001b[0m \u001b[0mone_away\u001b[0m\u001b[0;34m(\u001b[0m\u001b[0;34m\"pale\"\u001b[0m\u001b[0;34m,\u001b[0m \u001b[0;34m\"bale\"\u001b[0m\u001b[0;34m)\u001b[0m\u001b[0;34m\u001b[0m\u001b[0;34m\u001b[0m\u001b[0m\n\u001b[0;32m---> 10\u001b[0;31m \u001b[0;32massert\u001b[0m \u001b[0mone_away\u001b[0m\u001b[0;34m(\u001b[0m\u001b[0;34m\"pale\"\u001b[0m\u001b[0;34m,\u001b[0m \u001b[0;34m\"bake\"\u001b[0m\u001b[0;34m)\u001b[0m \u001b[0;34m==\u001b[0m \u001b[0;32mFalse\u001b[0m\u001b[0;34m\u001b[0m\u001b[0;34m\u001b[0m\u001b[0m\n\u001b[0m",
            "\u001b[0;31mAssertionError\u001b[0m: "
          ]
        }
      ]
    },
    {
      "cell_type": "code",
      "metadata": {
        "id": "NrOnp1Ftcq3o",
        "colab": {
          "base_uri": "https://localhost:8080/",
          "height": 34
        },
        "outputId": "17580798-aeb7-4404-817f-4d5b433faed5"
      },
      "source": [
        ""
      ],
      "execution_count": null,
      "outputs": [
        {
          "output_type": "stream",
          "text": [
            "-2.03690753\n"
          ],
          "name": "stdout"
        }
      ]
    },
    {
      "cell_type": "code",
      "metadata": {
        "id": "g1kflgJ1NX6U"
      },
      "source": [
        "def almostIncreasingSequence(sequence):\r\n",
        "    droppped = False\r\n",
        "    last = prev = min(sequence) - 1\r\n",
        "    print(min(sequence) - 1)\r\n",
        "    for num in sequence:\r\n",
        "        print(\"1\\tNum: \", num)\r\n",
        "        print(\"1\\tprev: \", prev)\r\n",
        "        print(\"1\\tlast: \", last)\r\n",
        "        if num <= last:\r\n",
        "            if droppped:\r\n",
        "                return False\r\n",
        "            else:\r\n",
        "                droppped = True\r\n",
        "            if num <= prev:\r\n",
        "                prev = last\r\n",
        "            elif num >= prev:\r\n",
        "                prev = last = num\r\n",
        "        else:\r\n",
        "            prev, last = last, num\r\n",
        "        print(\"2\\tprev: \", prev)\r\n",
        "        print(\"2\\tlast: \", last, \"\\n\")\r\n",
        "    return True\r\n",
        "            \r\n",
        "almostIncreasingSequence([123, -17, -5, 1, 2, 3, 12, 43, 45])"
      ],
      "execution_count": null,
      "outputs": []
    },
    {
      "cell_type": "code",
      "metadata": {
        "id": "5VIySYC-WG5U"
      },
      "source": [
        "def almostIncreasingSequence(sequence):\r\n",
        "    sequence_len = len(sequence)\r\n",
        "    if sequence_len in [1, 2]:\r\n",
        "        return True\r\n",
        "    else:\r\n",
        "        for i in range(1, sequence_len - 1):\r\n",
        "            if sequence[i] <= sequence[i - 1] or sequence[i] >= sequence[i + 1]:\r\n",
        "                if sequence[i - 1] < sequence[i + 1]:\r\n",
        "                    del sequence[i]\r\n",
        "                    break\r\n",
        "                elif sequence[i] < sequence[i - 1]:\r\n",
        "                  del sequence[i - 1]\r\n",
        "                  break\r\n",
        "                elif sequence[i] > sequence[i + 1]:\r\n",
        "                  del sequence[i + 1]\r\n",
        "                  break\r\n",
        "        for i in range(len(sequence) - 1):\r\n",
        "            if sequence[i] >= sequence[i + 1]:\r\n",
        "                return False\r\n",
        "        return True\r\n",
        "\r\n",
        "almostIncreasingSequence([123, -17, -5, 1, 2, 3, 12, 43, 45])"
      ],
      "execution_count": null,
      "outputs": []
    },
    {
      "cell_type": "code",
      "metadata": {
        "id": "VvrIUm9rb8IG"
      },
      "source": [
        "matrix = [[1,1,1,0], \r\n",
        "          [0,5,0,1], \r\n",
        "          [2,1,3,10]]\r\n",
        "\r\n",
        "def matrixElementsSum(matrix):\r\n",
        "\r\n",
        "    go\r\n",
        "    \r\n",
        "    for i in range(1, len(matrix)):\r\n",
        "        for j in range(len(matrix[0])):\r\n",
        "            if matrix[i - 1][j]:\r\n",
        "              total += matrix[i][j]\r\n",
        "              print(matrix[i][j])\r\n",
        "    return total\r\n",
        "\r\n",
        "matrixElementsSum(matrix)"
      ],
      "execution_count": null,
      "outputs": []
    },
    {
      "cell_type": "code",
      "metadata": {
        "id": "rZoGuzBR46Pv"
      },
      "source": [
        "def findMedianSortedArrays(nums1, nums2):\r\n",
        "        index1 = 0\r\n",
        "        index2 = 0\r\n",
        "        nums = []\r\n",
        "        \r\n",
        "        while index1 < len(nums1) or index2 < len(nums2):\r\n",
        "            if index1 < len(nums1) and index2 < len(nums2):\r\n",
        "              if nums1[index1] <= nums2[index2]:\r\n",
        "                nums.append(nums1[index1])\r\n",
        "                index1 += 1\r\n",
        "              else:\r\n",
        "                nums.append(nums2[index2])\r\n",
        "                index2 += 1\r\n",
        "            elif index1 < len(nums1):\r\n",
        "              nums.append(nums1[index1])\r\n",
        "              index1 += 1\r\n",
        "            elif index2 < len(nums2):\r\n",
        "              nums.append(nums2[index2])\r\n",
        "              index2 += 1\r\n",
        "            print(nums)\r\n",
        "\r\n",
        "        if (len(nums) % 2):\r\n",
        "          print(\"hola\")\r\n",
        "                \r\n",
        "findMedianSortedArrays([1,3], [2,4])"
      ],
      "execution_count": null,
      "outputs": []
    },
    {
      "cell_type": "code",
      "metadata": {
        "colab": {
          "base_uri": "https://localhost:8080/"
        },
        "id": "XRttvJB30iqO",
        "outputId": "c171a3cf-f984-46a1-db17-4bddf8cb23c7"
      },
      "source": [
        "def removeElement(nums, val):\r\n",
        "  count = 0\r\n",
        "  for i in range(len(nums)):\r\n",
        "    if nums[i] != val:\r\n",
        "      nums[count] = nums[i]\r\n",
        "      count +=1\r\n",
        "  return count\r\n",
        "\r\n",
        "nums = [0,1,2,2,3,0,4,2]\r\n",
        "\r\n",
        "removeElement(nums, 2)"
      ],
      "execution_count": null,
      "outputs": [
        {
          "output_type": "execute_result",
          "data": {
            "text/plain": [
              "5"
            ]
          },
          "metadata": {
            "tags": []
          },
          "execution_count": 28
        }
      ]
    },
    {
      "cell_type": "code",
      "metadata": {
        "colab": {
          "base_uri": "https://localhost:8080/"
        },
        "id": "1eEBjMcX_-Jb",
        "outputId": "eb81e814-2f93-4c05-d34e-a62a7a3b12e7"
      },
      "source": [
        "def removeElement(nums, val):\r\n",
        "  i = 0\r\n",
        "  remove_count = 0\r\n",
        "  nums_len = len(nums)\r\n",
        "        \r\n",
        "  while i < nums_len:\r\n",
        "    if nums[i] == val:\r\n",
        "      del nums[i]\r\n",
        "      nums_len -= 1\r\n",
        "    else:\r\n",
        "      i += 1\r\n",
        "  return nums_len\r\n",
        "\r\n",
        "nums = [0,1,2,2,3,0,4,2]\r\n",
        "\r\n",
        "removeElement(nums, 2)\r\n",
        "                "
      ],
      "execution_count": null,
      "outputs": [
        {
          "output_type": "execute_result",
          "data": {
            "text/plain": [
              "5"
            ]
          },
          "metadata": {
            "tags": []
          },
          "execution_count": 34
        }
      ]
    },
    {
      "cell_type": "code",
      "metadata": {
        "colab": {
          "base_uri": "https://localhost:8080/"
        },
        "id": "bBuyYXck021M",
        "outputId": "8a4837f6-9bec-4e6a-8778-f1801a08a5f5"
      },
      "source": [
        "nums"
      ],
      "execution_count": null,
      "outputs": [
        {
          "output_type": "execute_result",
          "data": {
            "text/plain": [
              "[0, 1, 3, 0, 4]"
            ]
          },
          "metadata": {
            "tags": []
          },
          "execution_count": 33
        }
      ]
    }
  ]
}